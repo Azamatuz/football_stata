{
 "cells": [
  {
   "cell_type": "code",
   "execution_count": null,
   "id": "933d057d",
   "metadata": {},
   "outputs": [],
   "source": [
    "Touches,Touches,Touches,Touches,Touches,Touches,Touches,Dribbles,Dribbles,Dribbles,Dribbles,Dribbles,Carries,Carries,Carries,Carries,Carries,Carries,Carries,Carries,Receiving,Receiving,Receiving,Receiving,\n",
    "Player,Nation,Pos,Age,90s,Touches,Def Pen,Def 3rd,Mid 3rd,Att 3rd,Att Pen,Live,Succ,Att,Succ%,#Pl,Megs,Carries,TotDist▼,PrgDist,Prog,1/3,CPA,Mis,Dis,Targ,Rec,Rec%,Prog,Matches\n",
    "Danilo\\Danilo,br BRA,DF,29,32.4,2747,162,909,1577,416,24,2560,20,22,90.9,20,1,1879,8717,4927,199,43,5,13,12,2077,2025,97.5,29,Matches\n",
    "Adrien Rabiot\\Adrien-Rabiot,fr FRA,MF,25,25.7,1760,97,481,1022,415,46,1723,26,40,65.0,29,0,1236,8098,4054,141,55,9,21,28,1411,1301,92.2,77,Matches\n",
    "Matthijs de Ligt\\Matthijs-de-Ligt,nl NED,DF,20,24.7,1923,264,860,1069,103,30,1875,5,7,71.4,6,0,1342,7145,3291,80,15,0,6,4,1463,1432,97.9,3,Matches\n",
    "Rodrigo Bentancur\\Rodrigo-Bentancur,uy URU,MF,23,25.8,2122,115,564,1303,385,15,2058,25,39,64.1,27,1,1457,6984,3313,99,40,4,16,23,1585,1509,95.2,35,Matches\n",
    "Juan Cuadrado\\Juan-Cuadrado,co COL,DFMF,32,24.2,2048,45,471,963,750,72,1827,56,77,72.7,58,4,1459,6840,4514,215,51,32,24,32,1658,1516,91.4,91,Matches\n",
    "Alex Sandro\\Alex-Sandro,br BRA,DF,29,20.6,1638,121,508,879,370,41,1518,16,21,76.2,16,1,1125,6453,3719,142,49,8,16,19,1230,1169,95.0,31,Matches\n",
    "Cristiano Ronaldo\\Cristiano-Ronaldo,pt POR,FW,35,31.1,1462,19,75,675,846,213,1398,58,90,64.4,59,2,1075,6441,4188,265,85,59,54,45,1678,1207,71.9,291,Matches\n",
    "Dejan Kulusevski\\Dejan-Kulusevski,se SWE,MFFW,20,21.4,1047,7,126,450,564,143,1024,35,64,54.7,36,2,831,5625,3586,176,52,42,45,59,1048,792,75.6,166,Matches\n",
    "Leonardo Bonucci\\Leonardo-Bonucci,it ITA,DF,33,22.5,1670,238,831,897,59,20,1610,4,5,80.0,4,0,1073,5428,3184,49,7,0,7,2,1299,1272,97.9,8,Matches\n",
    "Federico Chiesa\\Federico-Chiesa,it ITA,MFDF,22,24.6,1100,22,165,457,579,122,1050,35,62,56.5,36,3,821,5113,3331,159,45,44,36,42,1006,789,78.4,132,Matches\n",
    "Arthur Melo\\Arthur-Melo,br BRA,MF,23,12.9,1168,50,324,719,224,10,1148,16,18,88.9,16,1,903,4640,1937,80,22,1,10,15,984,948,96.3,18,Matches\n",
    "Giorgio Chiellini\\Giorgio-Chiellini,it ITA,DF,35,15.4,1228,186,584,663,51,13,1185,3,4,75.0,3,0,788,4291,2236,43,11,0,0,4,939,925,98.5,6,Matches\n",
    "Aaron Ramsey\\Aaron-Ramsey,wls WAL,MF,29,12.1,862,17,122,446,352,71,840,12,19,63.2,12,1,619,3261,1471,79,22,9,24,10,821,702,85.5,113,Matches\n",
    "Paulo Dybala\\Paulo-Dybala,ar ARG,FW,26,12.6,892,3,67,401,477,67,800,27,43,62.8,27,3,615,3072,1509,91,29,12,37,26,825,698,84.6,119,Matches\n",
    "Álvaro Morata\\Alvaro-Morata,es ESP,FW,27,22.4,894,24,73,426,455,148,861,27,42,64.3,27,4,580,3020,1713,74,33,18,62,39,1057,688,65.1,223,Matches\n",
    "Federico Bernardeschi\\Federico-Bernardeschi,it ITA,DFMF,26,10.8,714,32,151,320,303,36,638,20,34,58.8,22,3,501,3016,1569,66,22,9,17,18,577,498,86.3,59,Matches\n",
    "Weston McKennie\\Weston-McKennie,us USA,MF,21,18.9,1000,37,183,517,354,81,980,13,22,59.1,16,0,611,2935,1593,65,28,6,29,28,895,707,79.0,135,Matches\n",
    "Wojciech Szczęsny\\Wojciech-Szczesny,pl POL,GK,30,29.7,1076,935,1066,10,0,0,866,2,2,100.0,2,0,589,2637,1440,0,0,0,0,0,607,606,99.8,0,Matches\n",
    "Merih Demiral\\Merih-Demiral,tr TUR,DF,22,10.4,729,111,396,335,29,12,706,3,3,100.0,3,0,448,2063,776,16,5,0,1,3,543,532,98.0,2,Matches\n",
    "Gianluca Frabotta\\Gianluca-Frabotta,it ITA,DF,21,7.7,557,23,159,251,174,18,490,5,11,45.5,5,0,343,1491,801,34,9,3,6,8,402,369,91.8,26,Matches\n",
    "Gianluigi Buffon\\Gianluigi-Buffon,it ITA,GK,42,8.0,318,293,317,1,0,0,249,0,0,,0,0,184,625,332,0,0,0,0,0,186,184,98.9,0,Matches\n",
    "Manolo Portanova\\Manolo-Portanova,it ITA,FWMF,20,0.8,40,1,12,20,12,2,39,0,0,,0,0,26,151,99,4,1,0,0,1,37,28,75.7,2,Matches\n",
    "Douglas Costa\\Douglas-Costa,br BRA,MFFW,29,0.5,28,0,4,15,11,0,24,0,0,,0,0,17,125,86,3,1,0,0,0,29,21,72.4,3,Matches\n",
    "Nicolò Fagioli\\Nicolo-Fagioli,it ITA,MF,19,0.2,21,2,5,14,2,0,20,2,2,100.0,2,0,20,93,57,2,0,0,0,0,18,17,94.4,1,Matches\n",
    "Alessandro Di Pardo\\Alessandro-Di-Pardo,it ITA,MFDF,21,0.2,10,1,5,5,1,0,9,2,2,100.0,2,1,10,50,28,1,0,0,0,0,7,7,100.0,0,Matches\n",
    "Mattia De Sciglio\\Mattia-De-Sciglio,it ITA,DF,27,0.3,15,0,5,4,7,3,15,0,0,,0,0,10,50,20,1,0,1,0,0,14,13,92.9,4,Matches\n",
    "Félix Correia\\Felix-Correia,pt POR,MF,19,0.1,8,0,3,3,4,0,7,0,0,,0,0,6,31,18,0,0,0,0,0,7,5,71.4,0,Matches\n",
    "Carlo Pinsoglio\\Carlo-Pinsoglio,it ITA,GK,30,0.3,12,10,12,0,0,0,10,0,0,,0,0,6,19,4,0,0,0,0,0,8,8,100.0,0,Matches\n",
    "Giacomo Vrioni\\Giacomo-Vrioni,al ALB,MF,21,0.0,3,0,0,1,2,2,3,0,0,,0,0,2,18,16,1,0,1,1,0,2,2,100.0,1,Matches\n",
    "Radu Drăgușin\\Radu-Dragusin,ro ROU,DF,18,0.0,2,1,2,0,0,0,2,0,0,,0,0,1,4,0,0,0,0,0,0,1,1,100.0,0,Matches\n",
    "Squad Total,,,27.7,38.0,27094,2816,8480,13443,6945,1189,25535,412,629,65.5,428,27,18577,98436,53812,2085,625,263,425,418,22414,19971,89.1,1575,\n",
    "Opponent Total,,,27.0,38.0,21577,2751,7252,9817,5899,754,19916,334,558,59.9,364,31,13489,71391,39635,1631,520,148,383,433,16826,14428,85.7,1110,"
   ]
  }
 ],
 "metadata": {
  "kernelspec": {
   "display_name": "Python 3",
   "language": "python",
   "name": "python3"
  },
  "language_info": {
   "codemirror_mode": {
    "name": "ipython",
    "version": 3
   },
   "file_extension": ".py",
   "mimetype": "text/x-python",
   "name": "python",
   "nbconvert_exporter": "python",
   "pygments_lexer": "ipython3",
   "version": "3.8.8"
  }
 },
 "nbformat": 4,
 "nbformat_minor": 5
}
