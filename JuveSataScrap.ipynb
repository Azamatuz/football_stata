{
 "cells": [
  {
   "cell_type": "code",
   "execution_count": 1,
   "metadata": {},
   "outputs": [],
   "source": [
    "import numpy as np\n",
    "import pandas as pd\n",
    "from pandas import Series, DataFrame\n",
    "from bs4 import BeautifulSoup"
   ]
  },
  {
   "cell_type": "code",
   "execution_count": 2,
   "metadata": {},
   "outputs": [],
   "source": [
    "# Import charting libraries\n",
    "import matplotlib.pyplot as plt\n",
    "import seaborn as sns\n",
    "plt.rc(\"font\", size=14)\n",
    "sns.set(style=\"white\") #white background style for seaborn plots\n",
    "sns.set(style=\"whitegrid\", color_codes=True)\n",
    "import matplotlib.font_manager as fm\n",
    "# Font Imports\n",
    "heading_font = fm.FontProperties(fname='PlayfairDisplay-Regular.ttf', size=28)\n",
    "\n",
    "subtitle_font = fm.FontProperties(fname='Roboto-Regular.ttf', size=20)\n",
    "\n",
    "lable_font = fm.FontProperties(fname='Roboto-Regular.ttf', size=20)\n",
    "\n",
    "# Color Themes\n",
    "color_bg = '#FEF1E5'\n",
    "lighter_highlight = '#FAE6E1'\n",
    "darker_highlight = '#FBEADC'\n"
   ]
  },
  {
   "cell_type": "code",
   "execution_count": 3,
   "metadata": {},
   "outputs": [],
   "source": [
    "with open('transferM.html') as page:\n",
    "    soup = BeautifulSoup(page, \"lxml\")\n",
    "    soup = soup.find('tbody')"
   ]
  },
  {
   "cell_type": "code",
   "execution_count": 4,
   "metadata": {},
   "outputs": [],
   "source": [
    "# exstracting players numbers (pl_num) strings from html\n",
    "pl_num = soup.find_all('div', {'class': 'rn_nummer'})\n",
    "pl_num_list = []\n",
    "for i in pl_num:\n",
    "    pl_num_list.append(i.text)"
   ]
  },
  {
   "cell_type": "code",
   "execution_count": 5,
   "metadata": {},
   "outputs": [],
   "source": [
    "# exstracting players names (pl_name) strings from html\n",
    "pl_name = soup.find_all('td', {'class': 'hide'})\n",
    "pl_name_list = []\n",
    "for i in pl_name:\n",
    "    pl_name_list.append(i.text)"
   ]
  },
  {
   "cell_type": "code",
   "execution_count": 34,
   "metadata": {},
   "outputs": [],
   "source": [
    "# exstracting players birth dates (pl_birth) strings from html\n",
    "pl_birth = soup.find_all('td', {'class': 'zentriert'})\n",
    "pl_birth_list = []\n",
    "for i in pl_birth:\n",
    "    pl_birth_list.append(i.text)"
   ]
  },
  {
   "cell_type": "code",
   "execution_count": 37,
   "metadata": {},
   "outputs": [
    {
     "data": {
      "text/plain": [
       "['Apr 18, 1990 (29)',\n",
       " 'Jan 28, 1978 (42)',\n",
       " 'Mar 16, 1990 (29)',\n",
       " 'Aug 12, 1999 (20)',\n",
       " 'Mar 5, 1998 (22)',\n",
       " 'May 1, 1987 (32)',\n",
       " 'Jul 29, 1994 (25)',\n",
       " 'Aug 14, 1984 (35)',\n",
       " 'Jan 26, 1991 (29)',\n",
       " 'Jul 15, 1991 (28)',\n",
       " 'Oct 20, 1992 (27)',\n",
       " 'Apr 2, 1990 (29)',\n",
       " 'Jun 25, 1997 (22)',\n",
       " 'Dec 26, 1990 (29)',\n",
       " 'Apr 3, 1995 (24)',\n",
       " 'Apr 9, 1987 (32)',\n",
       " 'Apr 4, 1987 (32)',\n",
       " 'Feb 5, 1985 (35)',\n",
       " 'Feb 16, 1994 (26)',\n",
       " 'Sep 14, 1990 (29)',\n",
       " 'May 26, 1988 (31)',\n",
       " 'Nov 15, 1993 (26)',\n",
       " 'Dec 10, 1987 (32)']"
      ]
     },
     "execution_count": 37,
     "metadata": {},
     "output_type": "execute_result"
    }
   ],
   "source": [
    "# removing unused strings from date !IMPORTANT: needs to run code twice (no time to find out why)\n",
    "for i in pl_birth_list:\n",
    "    if len(i) < 10:\n",
    "        pl_birth_list.remove(i)\n",
    "\n",
    "pl_birth_list"
   ]
  },
  {
   "cell_type": "code",
   "execution_count": 73,
   "metadata": {},
   "outputs": [],
   "source": [
    "# exstracting players price (pl_price) strings from html\n",
    "pl_price = soup.find_all('td', {'class': 'rechts'})\n",
    "pl_price_list = []\n",
    "for i in pl_price:\n",
    "    pl_price_list.append(i.text)"
   ]
  },
  {
   "cell_type": "code",
   "execution_count": 39,
   "metadata": {},
   "outputs": [],
   "source": [
    "# separateing ages from birth dates\n",
    "age_list = []\n",
    "for key, val in enumerate(pl_birth_list):\n",
    "    age_list.append(val[-3:-1])\n",
    "    pl_birth_list[key] = val[0:-5]"
   ]
  },
  {
   "cell_type": "code",
   "execution_count": 75,
   "metadata": {},
   "outputs": [],
   "source": [
    "pl_name_series = Series(pl_name_list)\n",
    "pl_num_series = Series(pl_num_list)\n",
    "pl_birth_series = Series(pl_birth_list) \n",
    "pl_price_series = Series(pl_price_list) \n",
    "pl_age_series = Series(age_list)"
   ]
  },
  {
   "cell_type": "code",
   "execution_count": 76,
   "metadata": {},
   "outputs": [
    {
     "name": "stdout",
     "output_type": "stream",
     "text": [
      "0     40000000  \n",
      "1      1000000  \n",
      "2       500000  \n",
      "3     75000000  \n",
      "4     30000000  \n",
      "5     25000000  \n",
      "6     15000000  \n",
      "7      5000000  \n",
      "8     50000000  \n",
      "9     20000000  \n",
      "10    12000000  \n",
      "11    65000000  \n",
      "12    50000000  \n",
      "13    35000000  \n",
      "14    32000000  \n",
      "15    13000000  \n",
      "16     7000000  \n",
      "17    75000000  \n",
      "18    35000000  \n",
      "19    30000000  \n",
      "20    18000000  \n",
      "21    90000000  \n",
      "22    32000000  \n",
      "dtype: object\n"
     ]
    }
   ],
   "source": [
    "for key, price in enumerate(pl_price_series):\n",
    "    price = price.replace('m', '0000')\n",
    "    price = price.replace('.', '')\n",
    "    price = price.replace('k', '000')\n",
    "    price = price.replace('€', '')\n",
    "    pl_price_series[key] = price\n",
    "print (pl_price_series)"
   ]
  },
  {
   "cell_type": "code",
   "execution_count": 77,
   "metadata": {},
   "outputs": [],
   "source": [
    "# convert str date to datetype\n",
    "pl_birth_series = pd.to_datetime(pd.Series(pl_birth_series))"
   ]
  },
  {
   "cell_type": "code",
   "execution_count": 78,
   "metadata": {
    "scrolled": true
   },
   "outputs": [],
   "source": [
    "juve_team = []\n",
    "juve_team = pd.concat([pl_name_series, pl_num_series, pl_birth_series, pl_age_series, pl_price_series], axis=1)\n"
   ]
  },
  {
   "cell_type": "code",
   "execution_count": 43,
   "metadata": {},
   "outputs": [
    {
     "data": {
      "text/html": [
       "<div>\n",
       "<style scoped>\n",
       "    .dataframe tbody tr th:only-of-type {\n",
       "        vertical-align: middle;\n",
       "    }\n",
       "\n",
       "    .dataframe tbody tr th {\n",
       "        vertical-align: top;\n",
       "    }\n",
       "\n",
       "    .dataframe thead th {\n",
       "        text-align: right;\n",
       "    }\n",
       "</style>\n",
       "<table border=\"1\" class=\"dataframe\">\n",
       "  <thead>\n",
       "    <tr style=\"text-align: right;\">\n",
       "      <th></th>\n",
       "      <th>0</th>\n",
       "      <th>1</th>\n",
       "      <th>2</th>\n",
       "      <th>3</th>\n",
       "      <th>4</th>\n",
       "    </tr>\n",
       "  </thead>\n",
       "  <tbody>\n",
       "    <tr>\n",
       "      <td>0</td>\n",
       "      <td>Wojciech Szczesny</td>\n",
       "      <td>1</td>\n",
       "      <td>1990-04-18</td>\n",
       "      <td>29</td>\n",
       "      <td>€40.00m</td>\n",
       "    </tr>\n",
       "    <tr>\n",
       "      <td>1</td>\n",
       "      <td>Gianluigi Buffon</td>\n",
       "      <td>77</td>\n",
       "      <td>1978-01-28</td>\n",
       "      <td>42</td>\n",
       "      <td>€1.00m</td>\n",
       "    </tr>\n",
       "    <tr>\n",
       "      <td>2</td>\n",
       "      <td>Carlo Pinsoglio</td>\n",
       "      <td>31</td>\n",
       "      <td>1990-03-16</td>\n",
       "      <td>29</td>\n",
       "      <td>€500k</td>\n",
       "    </tr>\n",
       "    <tr>\n",
       "      <td>3</td>\n",
       "      <td>Matthijs de Ligt</td>\n",
       "      <td>4</td>\n",
       "      <td>1999-08-12</td>\n",
       "      <td>20</td>\n",
       "      <td>€75.00m</td>\n",
       "    </tr>\n",
       "    <tr>\n",
       "      <td>4</td>\n",
       "      <td>Merih Demiral</td>\n",
       "      <td>28</td>\n",
       "      <td>1998-03-05</td>\n",
       "      <td>22</td>\n",
       "      <td>€30.00m</td>\n",
       "    </tr>\n",
       "  </tbody>\n",
       "</table>\n",
       "</div>"
      ],
      "text/plain": [
       "                   0   1          2   3          4\n",
       "0  Wojciech Szczesny   1 1990-04-18  29  €40.00m  \n",
       "1   Gianluigi Buffon  77 1978-01-28  42   €1.00m  \n",
       "2    Carlo Pinsoglio  31 1990-03-16  29    €500k  \n",
       "3   Matthijs de Ligt   4 1999-08-12  20  €75.00m  \n",
       "4      Merih Demiral  28 1998-03-05  22  €30.00m  "
      ]
     },
     "execution_count": 43,
     "metadata": {},
     "output_type": "execute_result"
    }
   ],
   "source": [
    "juve_team.head()\n"
   ]
  },
  {
   "cell_type": "code",
   "execution_count": 79,
   "metadata": {},
   "outputs": [
    {
     "data": {
      "text/html": [
       "<div>\n",
       "<style scoped>\n",
       "    .dataframe tbody tr th:only-of-type {\n",
       "        vertical-align: middle;\n",
       "    }\n",
       "\n",
       "    .dataframe tbody tr th {\n",
       "        vertical-align: top;\n",
       "    }\n",
       "\n",
       "    .dataframe thead th {\n",
       "        text-align: right;\n",
       "    }\n",
       "</style>\n",
       "<table border=\"1\" class=\"dataframe\">\n",
       "  <thead>\n",
       "    <tr style=\"text-align: right;\">\n",
       "      <th></th>\n",
       "      <th>Name</th>\n",
       "      <th>Number</th>\n",
       "      <th>Birth Date</th>\n",
       "      <th>Age</th>\n",
       "      <th>Price</th>\n",
       "    </tr>\n",
       "  </thead>\n",
       "  <tbody>\n",
       "    <tr>\n",
       "      <td>0</td>\n",
       "      <td>Wojciech Szczesny</td>\n",
       "      <td>1</td>\n",
       "      <td>1990-04-18</td>\n",
       "      <td>29</td>\n",
       "      <td>40000000</td>\n",
       "    </tr>\n",
       "    <tr>\n",
       "      <td>1</td>\n",
       "      <td>Gianluigi Buffon</td>\n",
       "      <td>77</td>\n",
       "      <td>1978-01-28</td>\n",
       "      <td>42</td>\n",
       "      <td>1000000</td>\n",
       "    </tr>\n",
       "    <tr>\n",
       "      <td>2</td>\n",
       "      <td>Carlo Pinsoglio</td>\n",
       "      <td>31</td>\n",
       "      <td>1990-03-16</td>\n",
       "      <td>29</td>\n",
       "      <td>500000</td>\n",
       "    </tr>\n",
       "    <tr>\n",
       "      <td>3</td>\n",
       "      <td>Matthijs de Ligt</td>\n",
       "      <td>4</td>\n",
       "      <td>1999-08-12</td>\n",
       "      <td>20</td>\n",
       "      <td>75000000</td>\n",
       "    </tr>\n",
       "    <tr>\n",
       "      <td>4</td>\n",
       "      <td>Merih Demiral</td>\n",
       "      <td>28</td>\n",
       "      <td>1998-03-05</td>\n",
       "      <td>22</td>\n",
       "      <td>30000000</td>\n",
       "    </tr>\n",
       "    <tr>\n",
       "      <td>5</td>\n",
       "      <td>Leonardo Bonucci</td>\n",
       "      <td>19</td>\n",
       "      <td>1987-05-01</td>\n",
       "      <td>32</td>\n",
       "      <td>25000000</td>\n",
       "    </tr>\n",
       "    <tr>\n",
       "      <td>6</td>\n",
       "      <td>Daniele Rugani</td>\n",
       "      <td>24</td>\n",
       "      <td>1994-07-29</td>\n",
       "      <td>25</td>\n",
       "      <td>15000000</td>\n",
       "    </tr>\n",
       "    <tr>\n",
       "      <td>7</td>\n",
       "      <td>Giorgio Chiellini</td>\n",
       "      <td>3</td>\n",
       "      <td>1984-08-14</td>\n",
       "      <td>35</td>\n",
       "      <td>5000000</td>\n",
       "    </tr>\n",
       "    <tr>\n",
       "      <td>8</td>\n",
       "      <td>Alex Sandro</td>\n",
       "      <td>12</td>\n",
       "      <td>1991-01-26</td>\n",
       "      <td>29</td>\n",
       "      <td>50000000</td>\n",
       "    </tr>\n",
       "    <tr>\n",
       "      <td>9</td>\n",
       "      <td>Danilo</td>\n",
       "      <td>13</td>\n",
       "      <td>1991-07-15</td>\n",
       "      <td>28</td>\n",
       "      <td>20000000</td>\n",
       "    </tr>\n",
       "    <tr>\n",
       "      <td>10</td>\n",
       "      <td>Mattia De Sciglio</td>\n",
       "      <td>2</td>\n",
       "      <td>1992-10-20</td>\n",
       "      <td>27</td>\n",
       "      <td>12000000</td>\n",
       "    </tr>\n",
       "    <tr>\n",
       "      <td>11</td>\n",
       "      <td>Miralem Pjanic</td>\n",
       "      <td>5</td>\n",
       "      <td>1990-04-02</td>\n",
       "      <td>29</td>\n",
       "      <td>65000000</td>\n",
       "    </tr>\n",
       "    <tr>\n",
       "      <td>12</td>\n",
       "      <td>Rodrigo Bentancur</td>\n",
       "      <td>30</td>\n",
       "      <td>1997-06-25</td>\n",
       "      <td>22</td>\n",
       "      <td>50000000</td>\n",
       "    </tr>\n",
       "    <tr>\n",
       "      <td>13</td>\n",
       "      <td>Aaron Ramsey</td>\n",
       "      <td>8</td>\n",
       "      <td>1990-12-26</td>\n",
       "      <td>29</td>\n",
       "      <td>35000000</td>\n",
       "    </tr>\n",
       "    <tr>\n",
       "      <td>14</td>\n",
       "      <td>Adrien Rabiot</td>\n",
       "      <td>25</td>\n",
       "      <td>1995-04-03</td>\n",
       "      <td>24</td>\n",
       "      <td>32000000</td>\n",
       "    </tr>\n",
       "    <tr>\n",
       "      <td>15</td>\n",
       "      <td>Blaise Matuidi</td>\n",
       "      <td>14</td>\n",
       "      <td>1987-04-09</td>\n",
       "      <td>32</td>\n",
       "      <td>13000000</td>\n",
       "    </tr>\n",
       "    <tr>\n",
       "      <td>16</td>\n",
       "      <td>Sami Khedira</td>\n",
       "      <td>6</td>\n",
       "      <td>1987-04-04</td>\n",
       "      <td>32</td>\n",
       "      <td>7000000</td>\n",
       "    </tr>\n",
       "    <tr>\n",
       "      <td>17</td>\n",
       "      <td>Cristiano Ronaldo</td>\n",
       "      <td>7</td>\n",
       "      <td>1985-02-05</td>\n",
       "      <td>35</td>\n",
       "      <td>75000000</td>\n",
       "    </tr>\n",
       "    <tr>\n",
       "      <td>18</td>\n",
       "      <td>Federico Bernardeschi</td>\n",
       "      <td>33</td>\n",
       "      <td>1994-02-16</td>\n",
       "      <td>26</td>\n",
       "      <td>35000000</td>\n",
       "    </tr>\n",
       "    <tr>\n",
       "      <td>19</td>\n",
       "      <td>Douglas Costa</td>\n",
       "      <td>11</td>\n",
       "      <td>1990-09-14</td>\n",
       "      <td>29</td>\n",
       "      <td>30000000</td>\n",
       "    </tr>\n",
       "    <tr>\n",
       "      <td>20</td>\n",
       "      <td>Juan Cuadrado</td>\n",
       "      <td>16</td>\n",
       "      <td>1988-05-26</td>\n",
       "      <td>31</td>\n",
       "      <td>18000000</td>\n",
       "    </tr>\n",
       "    <tr>\n",
       "      <td>21</td>\n",
       "      <td>Paulo Dybala</td>\n",
       "      <td>10</td>\n",
       "      <td>1993-11-15</td>\n",
       "      <td>26</td>\n",
       "      <td>90000000</td>\n",
       "    </tr>\n",
       "    <tr>\n",
       "      <td>22</td>\n",
       "      <td>Gonzalo Higuaín</td>\n",
       "      <td>21</td>\n",
       "      <td>1987-12-10</td>\n",
       "      <td>32</td>\n",
       "      <td>32000000</td>\n",
       "    </tr>\n",
       "  </tbody>\n",
       "</table>\n",
       "</div>"
      ],
      "text/plain": [
       "                     Name Number Birth Date Age       Price\n",
       "0       Wojciech Szczesny      1 1990-04-18  29  40000000  \n",
       "1        Gianluigi Buffon     77 1978-01-28  42   1000000  \n",
       "2         Carlo Pinsoglio     31 1990-03-16  29    500000  \n",
       "3        Matthijs de Ligt      4 1999-08-12  20  75000000  \n",
       "4           Merih Demiral     28 1998-03-05  22  30000000  \n",
       "5        Leonardo Bonucci     19 1987-05-01  32  25000000  \n",
       "6          Daniele Rugani     24 1994-07-29  25  15000000  \n",
       "7       Giorgio Chiellini      3 1984-08-14  35   5000000  \n",
       "8             Alex Sandro     12 1991-01-26  29  50000000  \n",
       "9                  Danilo     13 1991-07-15  28  20000000  \n",
       "10      Mattia De Sciglio      2 1992-10-20  27  12000000  \n",
       "11         Miralem Pjanic      5 1990-04-02  29  65000000  \n",
       "12      Rodrigo Bentancur     30 1997-06-25  22  50000000  \n",
       "13           Aaron Ramsey      8 1990-12-26  29  35000000  \n",
       "14          Adrien Rabiot     25 1995-04-03  24  32000000  \n",
       "15         Blaise Matuidi     14 1987-04-09  32  13000000  \n",
       "16           Sami Khedira      6 1987-04-04  32   7000000  \n",
       "17      Cristiano Ronaldo      7 1985-02-05  35  75000000  \n",
       "18  Federico Bernardeschi     33 1994-02-16  26  35000000  \n",
       "19          Douglas Costa     11 1990-09-14  29  30000000  \n",
       "20          Juan Cuadrado     16 1988-05-26  31  18000000  \n",
       "21           Paulo Dybala     10 1993-11-15  26  90000000  \n",
       "22        Gonzalo Higuaín     21 1987-12-10  32  32000000  "
      ]
     },
     "execution_count": 79,
     "metadata": {},
     "output_type": "execute_result"
    }
   ],
   "source": [
    "juve_team.columns = ['Name', 'Number', 'Birth Date', 'Age', 'Price']\n",
    "juve_team"
   ]
  },
  {
   "cell_type": "code",
   "execution_count": 80,
   "metadata": {},
   "outputs": [],
   "source": [
    "juve_team['Age'] = juve_team['Age'].astype(int)\n",
    "juve_team['Price'] = juve_team['Price'].astype(int)"
   ]
  },
  {
   "cell_type": "code",
   "execution_count": 52,
   "metadata": {
    "scrolled": true
   },
   "outputs": [
    {
     "data": {
      "image/png": "[encoded data removed]",
      "text/plain": [
       "<Figure size 432x288 with 1 Axes>"
      ]
     },
     "metadata": {},
     "output_type": "display_data"
    }
   ],
   "source": [
    "sns.set(style=\"whitegrid\")\n",
    "ax = sns.scatterplot(y=\"Age\", x='Price', data = juve_team)\n",
    "#plt.savefig('wieght_box.png')"
   ]
  },
  {
   "cell_type": "code",
   "execution_count": 54,
   "metadata": {},
   "outputs": [
    {
     "data": {
      "text/plain": [
       "'Juve'"
      ]
     },
     "execution_count": 54,
     "metadata": {},
     "output_type": "execute_result"
    }
   ],
   "source": [
    "a = 'Juve.html'\n",
    "a[0:-5]"
   ]
  }
 ],
 "metadata": {
  "anaconda-cloud": {},
  "kernelspec": {
   "display_name": "Python 3",
   "language": "python",
   "name": "python3"
  },
  "language_info": {
   "codemirror_mode": {
    "name": "ipython",
    "version": 3
   },
   "file_extension": ".py",
   "mimetype": "text/x-python",
   "name": "python",
   "nbconvert_exporter": "python",
   "pygments_lexer": "ipython3",
   "version": "3.7.4"
  }
 },
 "nbformat": 4,
 "nbformat_minor": 1
}
